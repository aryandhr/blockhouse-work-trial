{
 "cells": [
  {
   "cell_type": "markdown",
   "metadata": {},
   "source": [
    "# Portfolio Optimization with Linear and Fixed Transaction Costs"
   ]
  },
  {
   "cell_type": "markdown",
   "metadata": {},
   "source": [
    "The paper \"Portfolio Optimization with Linear and Fixed Transaction Costs\" by Miguel Sousa Lobo, Maryam Fazel and Stephen Boyd considers the problem of portfolio optimization with variable transaction costs as a nonconvex optimization problem that can be broken down into convex optimization subproblems. Their method results in a suboptimal portfolio and an upper bound on the actual optimal portfolio, and they find that in practice the gap between the two is small.\n",
    "\n",
    "The portfolio selection problem in the paper is formulated as such:\n",
    "\n",
    "$\n",
    "\\begin{aligned}\n",
    "& \\underset{x}{\\text{maximize}}\n",
    "& & \\bar{a}^T (w + x) \\\\\n",
    "& \\text{subject to}\n",
    "& & 1^T x + \\phi(x) \\leq 0 \\\\\n",
    "& & & w + x \\in S\n",
    "\\end{aligned}\n",
    "$\n",
    "\n",
    "where, for a portfolio with investments in $n$ assets,\n",
    "\n",
    "$\\bar{a}$ is the vector of expected returns on each asset, <br>\n",
    "$w$ is the vector of current holdings in each asset, <br>\n",
    "$x$ is the vector of amounts transacted in each asset, $x_i < 0$ sell $x$ units of asset $i$, $x_i > 0$ buy <br>\n",
    "$\\phi(x)$ is the transaction cost function, <br>\n",
    "$S$ is the set of feasible portfolios.\n",
    "\n",
    "Evidently, it follows that the problem of minimizing the total transaction costs subject to portoflio constraints can be formulated as such:\n",
    "\n",
    "$\n",
    "\\begin{aligned}\n",
    "& {\\text{minimize}}\n",
    "& & \\phi(x) \\\\\n",
    "& \\text{subject to}\n",
    "& & \\bar{a}^T (w + x) \\geq r_{\\text{min}} \\\\ \n",
    "& & & w + x \\in S\n",
    "\\end{aligned}\n",
    "$\n",
    "\n",
    "where $r_{\\text{min}} $ is the desired lower bound on the expected return.\n",
    "\n",
    "The paper focuses on the original optimization problem more, however this newly constructed optimization problem is of greater use to us."
   ]
  },
  {
   "cell_type": "code",
   "execution_count": 19,
   "metadata": {},
   "outputs": [],
   "source": [
    "import cvxpy as cp\n",
    "import numpy as np"
   ]
  },
  {
   "cell_type": "code",
   "execution_count": 70,
   "metadata": {},
   "outputs": [
    {
     "name": "stdout",
     "output_type": "stream",
     "text": [
      "Current portfolio: [45 48 65 68 68]\n",
      "Expected return on each holding: [1.84725174 1.6235637  1.38438171 1.29753461 1.05671298]\n"
     ]
    }
   ],
   "source": [
    "np.random.seed(0) # comment out to try different values\n",
    "\n",
    "n = 5  # number of assets\n",
    "\n",
    "w = np.random.randint(1, 101, n)  # current holdings in each asset\n",
    "a_bar = np.ones(n) + np.random.rand(n)  # assuming positive expected returns on each asset\n",
    "r_min = 1.5  # want a 50% return\n",
    "\n",
    "print(\"Current portfolio:\", w)\n",
    "print(\"Expected return on each holding:\", a_bar)"
   ]
  },
  {
   "cell_type": "markdown",
   "metadata": {},
   "source": [
    "Our current portfolio value and expected portfolio value can be calculated as:"
   ]
  },
  {
   "cell_type": "code",
   "execution_count": 71,
   "metadata": {},
   "outputs": [
    {
     "name": "stdout",
     "output_type": "stream",
     "text": [
      "Current portfolio value: 294 vs. expected after returns 411.13\n"
     ]
    }
   ],
   "source": [
    "print(\"Current portfolio value:\", sum(w), \"vs. expected after returns {:.2f}\".format(a_bar.T @ w))"
   ]
  },
  {
   "cell_type": "markdown",
   "metadata": {},
   "source": [
    "An initial investment of 294 turns to 411.13 after holding period. That's an almost 40% return! But we can do better.\n",
    "\n",
    "However, we see that we own 68 shares in the 5th asset of our portfolio which only has a return of 5.6% compared to a whopping 84% return on our smallest position. Intuitively, we know there should be a rebalancing of some sorts here.\n",
    "\n",
    "We need to define our transaction cost function first. The paper implements a linear function of the form:\n",
    "\n",
    "$\\phi(x) = \\beta_i + \\alpha_i|x_{\\text{i}}|, $\n",
    "\n",
    "where $\\alpha_i$ are transaction costs associated with trading asset $i$ and $\\beta_i$ are fixed costs. The inclusion of fixed costs discourages swapping small amounts within our portfolio. \n",
    "\n",
    "However, for the sake of simplicty, we will ignore including $\\alpha_i$ and $\\beta_i$ in our function. We will see a caveat of this simplifying assumption $(\\beta_i = 0)$ in our results. "
   ]
  },
  {
   "cell_type": "code",
   "execution_count": 75,
   "metadata": {},
   "outputs": [
    {
     "name": "stdout",
     "output_type": "stream",
     "text": [
      "Optimal value of transaction cost: 6.114991448975474e-09\n",
      "Optimal transactions x: [ 2.69757050e-09  1.69897152e-09  4.42780753e-10  9.30081692e-12\n",
      " -1.26636785e-09]\n"
     ]
    }
   ],
   "source": [
    "# Transaction cost function\n",
    "def phi(x):\n",
    "    return cp.sum(cp.abs(x))\n",
    "\n",
    "\n",
    "x = cp.Variable(n) # variable that can be adjusted\n",
    "\n",
    "objective = cp.Minimize(phi(x)) # objective function\n",
    "\n",
    "constraints = [\n",
    "    a_bar.T @ (w + x) / sum(w) >= r_min,  # minimum expected return\n",
    "    cp.sum(w + x) == cp.sum(w)  # total value in portfolio must remain same\n",
    "]\n",
    "\n",
    "problem = cp.Problem(objective, constraints)\n",
    "result = problem.solve()\n",
    "\n",
    "print(\"Optimal value of transaction cost:\", problem.value)\n",
    "print(\"Optimal transactions x:\", x.value)"
   ]
  },
  {
   "cell_type": "code",
   "execution_count": 76,
   "metadata": {},
   "outputs": [
    {
     "name": "stdout",
     "output_type": "stream",
     "text": [
      "Optimized portfolio: [82.78305261 48.00000002 64.99999999 67.99999998 30.2169474 ]\n"
     ]
    }
   ],
   "source": [
    "print(\"Optimized portfolio:\", w + x.value)"
   ]
  },
  {
   "cell_type": "markdown",
   "metadata": {},
   "source": [
    "Notice the purchase of an additional .00000002 shares in our 2nd asset. While this is the optimal portfolio given our constraints, we know this will rarely be profitable in a real world scenario. However, our simple model allows us formulate a function for implicit transaction costs and minimize them."
   ]
  },
  {
   "cell_type": "markdown",
   "metadata": {},
   "source": [
    "### References"
   ]
  },
  {
   "cell_type": "markdown",
   "metadata": {},
   "source": [
    "Lobo, M.S., Fazel, M. & Boyd, S. Portfolio optimization with linear and fixed transaction costs. Ann Oper Res 152, 341–365 (2007).<br>\n",
    "https://doi.org/10.1007/s10479-006-0145-1"
   ]
  }
 ],
 "metadata": {
  "kernelspec": {
   "display_name": "blockhouse",
   "language": "python",
   "name": "python3"
  },
  "language_info": {
   "codemirror_mode": {
    "name": "ipython",
    "version": 3
   },
   "file_extension": ".py",
   "mimetype": "text/x-python",
   "name": "python",
   "nbconvert_exporter": "python",
   "pygments_lexer": "ipython3",
   "version": "3.10.14"
  }
 },
 "nbformat": 4,
 "nbformat_minor": 2
}
